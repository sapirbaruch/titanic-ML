{
 "cells": [
  {
   "cell_type": "markdown",
   "id": "ec202ada",
   "metadata": {},
   "source": [
    "# Assignment - Supervised Learning flow"
   ]
  },
  {
   "cell_type": "markdown",
   "id": "b06a2810",
   "metadata": {},
   "source": [
    "# Part 1(a) Student details:\n",
    "* Please write the First-Name, First letter of Last-Name and last 4 digits of the i.d. for each student. "
   ]
  },
  {
   "cell_type": "code",
   "execution_count": null,
   "id": "ca16486b",
   "metadata": {},
   "outputs": [],
   "source": [
    "# student details 1: Meshy B. 2864  \n",
    "# student details 2: Sapir B. 3721"
   ]
  },
  {
   "cell_type": "markdown",
   "id": "abb64166-b32e-4b86-a7ee-84106c8b3a92",
   "metadata": {},
   "source": [
    "## Part 1(b) - Chat-GPT/other AI-agent/other assistance used:\n",
    "* If you changed the prompt until you got a satisfying answer, please add all versions\n",
    "* don't delete \"pre\" tags, so new-line is supported\n",
    "* double click the following markdown cell to change\n",
    "* press shift+enter to view\n",
    "* Add information:"
   ]
  },
  {
   "cell_type": "markdown",
   "id": "ea93f0d3-7aa1-4a95-b084-395f5f7c6c0c",
   "metadata": {},
   "source": [
    "#### Add information in this Markdown cell (double click to change, shift-enter to view)\n",
    "<pre>   \n",
    "AI agent name:\n",
    "Goal:\n",
    "Propmpt1:\n",
    "    \n",
    "Propmpt2:\n",
    "    \n",
    "Propmpt3: \n",
    "\n",
    "\n",
    "AI agent name 2:\n",
    "Goal:\n",
    "Propmpt1:\n",
    "    \n",
    "Propmpt2:\n",
    "    \n",
    "Propmpt3: \n",
    "\n",
    "Other assistanse:    \n",
    "</pre>"
   ]
  },
  {
   "cell_type": "markdown",
   "id": "0e4fbaab-e5a5-40ed-be0f-9a2cb7931a4b",
   "metadata": {},
   "source": [
    "## Part 1(c) - Learning Problem and dataset explaination.\n",
    "* Please explain in one paragraph\n",
    "* don't delete \"pre\" tags, so new-line is supported\n",
    "* double click the following markdown cell to change\n",
    "* press shift+enter to view\n",
    "* Add explaining text:"
   ]
  },
  {
   "cell_type": "markdown",
   "id": "dd8565df-2778-4b89-83bd-6b227063789f",
   "metadata": {},
   "source": [
    "#### Add information in this Markdown cell (double click to change, shift-enter to view)\n",
    "<pre>\n",
    "The learning task in this assignment is a binary classification problem based on the Titanic dataset\n",
    "Each row in the dataset represents one passenger with information such as ticket class (Pclass), sex, age, number of siblings or spouses aboard (SibSp), parents or children (Parch), ticket fare, and port of embarkation (Embarked). \n",
    "The target variable is “Survived,” where 1 means the passenger survived and 0 means the passenger did not survive. \n",
    "The goal is to train models that can predict whether a passenger survived, and to understand which factors had the greatest impact on survival chances. The objective is to make accurate predictions and also to learn what influenced survival on the Titanic.\n",
    "</pre>"
   ]
  },
  {
   "cell_type": "markdown",
   "id": "df67c2ee-87c8-499c-a04f-1853c332f51d",
   "metadata": {},
   "source": [
    "## Part 2 - Initial Preparations \n",
    "You could add as many code cells as needed"
   ]
  },
  {
   "cell_type": "code",
   "execution_count": 86,
   "id": "b29b3454-b568-4614-8017-f15b3c59fc55",
   "metadata": {},
   "outputs": [],
   "source": [
    "import numpy as np\n",
    "import pandas as pd\n",
    "\n",
    "import matplotlib.pyplot as plt\n",
    "import seaborn as sns\n",
    "\n",
    "from sklearn.impute import SimpleImputer\n",
    "from sklearn.preprocessing import OneHotEncoder, StandardScaler, MinMaxScaler\n",
    "from sklearn.compose import ColumnTransformer\n",
    "from sklearn.pipeline import Pipeline\n",
    "\n",
    "from sklearn.model_selection import GridSearchCV, cross_val_score, KFold\n",
    "from sklearn.metrics import f1_score, classification_report, confusion_matrix\n",
    "\n",
    "from sklearn.svm import SVC\n",
    "from sklearn.ensemble import RandomForestClassifier\n"
   ]
  },
  {
   "cell_type": "code",
   "execution_count": 88,
   "id": "4b47fe56-d611-4b28-be92-673db4d56400",
   "metadata": {},
   "outputs": [
    {
     "name": "stdout",
     "output_type": "stream",
     "text": [
      "Train shape: (712, 8)\n",
      "Test shape: (179, 8) \n",
      "\n",
      "Train set:\n",
      "   Pclass  Sex   Age  SibSp  Parch     Fare  Embarked  Survived\n",
      "0       1    0  54.0      1      0  78.2667         1         1\n",
      "1       2    0  45.0      0      0  13.5000         0         1\n",
      "2       3    1  20.0      0      0   9.5000         0         0\n",
      "3       3    1  36.0      0      0   7.8958         0         0\n",
      "4       3    1  22.0      0      0   8.0500         0         0\n",
      "\n",
      "Test set:\n",
      "   Pclass  Sex        Age  SibSp  Parch     Fare  Embarked  Survived\n",
      "0       3    1  35.000000      0      0   7.0500         0         0\n",
      "1       3    1  30.000000      0      0   7.2500         0         0\n",
      "2       3    1  29.699118      0      0  14.5000         0         0\n",
      "3       3    0  21.000000      0      0   7.7500         2         0\n",
      "4       3    1  32.000000      0      0  56.4958         0         1\n"
     ]
    }
   ],
   "source": [
    "# Load the data\n",
    "train_df = pd.read_csv(\"titanic_train.csv\")\n",
    "test_df = pd.read_csv(\"titanic_test.csv\")\n",
    "\n",
    "# Check the shape (rows, columns) of each dataset\n",
    "print(\"Train shape:\", train_df.shape)\n",
    "print(\"Test shape:\", test_df.shape, \"\\n\")\n",
    "\n",
    "# Show first 5 rows of each dataset\n",
    "print(\"Train set:\")\n",
    "print(train_df.head())\n",
    "\n",
    "print(\"\\nTest set:\")\n",
    "print(test_df.head())"
   ]
  },
  {
   "cell_type": "code",
   "execution_count": null,
   "id": "e385823d-03a3-4dd5-a257-cfeb2c69738f",
   "metadata": {},
   "outputs": [],
   "source": [
    "EDA"
   ]
  },
  {
   "cell_type": "code",
   "execution_count": 90,
   "id": "53e27610-b640-4db0-80c9-789b5f5fae58",
   "metadata": {},
   "outputs": [
    {
     "data": {
      "image/png": "[encoded data removed]",
      "text/plain": [
       "<Figure size 600x400 with 1 Axes>"
      ]
     },
     "metadata": {},
     "output_type": "display_data"
    }
   ],
   "source": [
    "# 1. Age distribution\n",
    "\n",
    "# The histogram shows the distribution of passenger ages. \n",
    "# Most passengers were between 20 and 40 years old. \n",
    "    \n",
    "plt.figure(figsize=(6,4))\n",
    "sns.histplot(train_df[\"Age\"], bins=30, kde=True)\n",
    "plt.title(\"Distribution of Passenger Ages\")\n",
    "plt.xlabel(\"Age\")\n",
    "plt.ylabel(\"Count\")\n",
    "plt.show()"
   ]
  },
  {
   "cell_type": "code",
   "execution_count": 92,
   "id": "48a41df9-5ed9-403d-9bc7-79974625eea9",
   "metadata": {},
   "outputs": [
    {
     "data": {
      "image/png": "[encoded data removed]",
      "text/plain": [
       "<Figure size 400x500 with 1 Axes>"
      ]
     },
     "metadata": {},
     "output_type": "display_data"
    }
   ],
   "source": [
    "# 2. Survival by Sex\n",
    "\n",
    "# The countplot shows survival by sex. \n",
    "# More women survived compared to men.  \n",
    "\n",
    "sex_map = {0: \"Female\", 1: \"Male\"}\n",
    "train_df[\"Sex_label\"] = train_df[\"Sex\"].map(sex_map)\n",
    "\n",
    "plt.figure(figsize=(4,5))\n",
    "ax = sns.countplot(x=\"Sex_label\", hue=\"Survived\", data=train_df, width=0.6, palette={0: \"red\", 1: \"green\"})\n",
    "\n",
    "plt.title(\"Survival Count by Sex\")\n",
    "plt.xlabel(\"Sex\")\n",
    "plt.ylabel(\"Count\")\n",
    "plt.legend(title=\"Survived\", labels=[\"No\", \"Yes\"])\n",
    "\n",
    "for p in ax.patches:\n",
    "    height = p.get_height()\n",
    "    if height > 0: \n",
    "        ax.annotate(f'{int(height)}',\n",
    "                    (p.get_x() + p.get_width() / 2., height),\n",
    "                    ha='center', va='bottom')\n",
    "plt.show()\n"
   ]
  },
  {
   "cell_type": "code",
   "execution_count": 94,
   "id": "373a0610-8a35-4cde-a35b-c21669469a06",
   "metadata": {},
   "outputs": [
    {
     "data": {
      "image/png": "[encoded data removed]",
      "text/plain": [
       "<Figure size 800x500 with 1 Axes>"
      ]
     },
     "metadata": {},
     "output_type": "display_data"
    }
   ],
   "source": [
    "# 3. Survival by Pclass\n",
    "\n",
    "# The countplot shows survival by ticket class (Pclass). \n",
    "# Passengers in 1st class had higher survival rates compared to 2nd and 3rd class.  \n",
    "\n",
    "plt.figure(figsize=(8,5))\n",
    "ax = sns.countplot(x=\"Pclass\", hue=\"Survived\", data=train_df, palette={0: \"red\", 1: \"green\"} )\n",
    "plt.title(\"Survival Count by Ticket Class\")\n",
    "plt.xlabel(\"Passenger Class\")\n",
    "plt.ylabel(\"Count\")\n",
    "plt.legend(title=\"Survived\", labels=[\"No\", \"Yes\"])\n",
    "\n",
    "for p in ax.patches:\n",
    "    height = p.get_height()\n",
    "    if height > 0:  \n",
    "        ax.annotate(f'{int(height)}',\n",
    "                    (p.get_x() + p.get_width() / 2., height),\n",
    "                    ha='center', va='bottom')\n",
    "        \n",
    "plt.show()"
   ]
  },
  {
   "cell_type": "code",
   "execution_count": 96,
   "id": "1a9f9e72-dbb2-4429-b62a-91600039cea6",
   "metadata": {},
   "outputs": [
    {
     "name": "stdout",
     "output_type": "stream",
     "text": [
      "Survival rate by Passenger Class:\n",
      "   Pclass Survived\n",
      "0       1    63.5%\n",
      "1       2    45.9%\n",
      "2       3    26.0%\n"
     ]
    }
   ],
   "source": [
    "# 4. Table - Survival rate by Pclass\n",
    "\n",
    "# 4. The table shows the average survival rate by passenger class. \n",
    "# The results confirm that 1st class passengers had the highest chance of survival.  \n",
    "\n",
    "survival_by_class = train_df.groupby(\"Pclass\")[\"Survived\"].mean().reset_index()\n",
    "\n",
    "survival_by_class[\"Survived\"] = (survival_by_class[\"Survived\"] * 100).round(1).astype(str) + '%'\n",
    "\n",
    "print(\"Survival rate by Passenger Class:\")\n",
    "print(survival_by_class)"
   ]
  },
  {
   "cell_type": "markdown",
   "id": "fb36672a",
   "metadata": {},
   "source": [
    "## Part 3 - Experiments\n",
    "You could add as many code cells as needed"
   ]
  },
  {
   "cell_type": "markdown",
   "id": "0c6c5a20-b1b1-4b07-ad73-5f3075225ef6",
   "metadata": {},
   "source": [
    " We tested the effect of feature engineering (scaling) on the model performance:  \n",
    "1. No scaling (numeric features left as is).  \n",
    "2. StandardScaler applied to numeric features.  \n",
    "\n",
    "We evaluated both configurations using the F1-score with 5-fold cross validation.  \n",
    "The comparison shows how feature scaling affects model quality.  "
   ]
  },
  {
   "cell_type": "code",
   "execution_count": 112,
   "id": "937b653d",
   "metadata": {},
   "outputs": [
    {
     "name": "stdout",
     "output_type": "stream",
     "text": [
      "No Scaling F1 mean: 0.4098\n",
      "StandardScaler F1 mean: 0.751\n"
     ]
    }
   ],
   "source": [
    "# Split columns by type\n",
    "    # num_cols = numeric columns\n",
    "    # cat_cols = categorical columns\n",
    "num_cols = [\"Age\",\"Fare\",\"SibSp\",\"Parch\",\"Pclass\"]\n",
    "cat_cols = [\"Sex\",\"Embarked\"]\n",
    "\n",
    "# -- FE1: No Scaling --\n",
    "\n",
    "# For numeric features: fill missing values with median\n",
    "num_pipe_no = Pipeline([(\"impute\", SimpleImputer(strategy=\"median\"))])\n",
    "\n",
    "# For categorical features: fill missing values with most frequent and apply OneHotEncoder (convert categories to binary columns)\n",
    "cat_pipe = Pipeline([(\"impute\", SimpleImputer(strategy=\"most_frequent\")),(\"ohe\", OneHotEncoder(handle_unknown=\"ignore\"))])\n",
    "\n",
    "# Combine numeric and categorical pipelines\n",
    "pre_no = ColumnTransformer([(\"num\", num_pipe_no, num_cols),(\"cat\", cat_pipe,   cat_cols)])\n",
    "\n",
    "# Full pipeline: preprocessing + classifier (SVC)\n",
    "pipe_no = Pipeline([(\"pre\", pre_no), (\"clf\", SVC())])\n",
    "\n",
    "# -- FE2: With StandardScaler --\n",
    "\n",
    "# For numeric features: fill missing values with median + scale data\n",
    "num_pipe_std = Pipeline([(\"impute\", SimpleImputer(strategy=\"median\")),(\"scale\",  StandardScaler())])\n",
    "\n",
    "# Combine numeric (with scaling) and categorical pipelines\n",
    "pre_std = ColumnTransformer([(\"num\", num_pipe_std, num_cols),(\"cat\", cat_pipe,     cat_cols)])\n",
    "\n",
    "# Full pipeline: preprocessing + classifier (SVC)\n",
    "pipe_std = Pipeline([(\"pre\", pre_std), (\"clf\", SVC())])\n",
    "\n",
    "# ---- Cross Validation ----\n",
    "    # X = all features (without target column)\n",
    "    # y = target column (Survived)\n",
    "X = train_df.drop(columns=[\"Survived\"])\n",
    "y = train_df[\"Survived\"]\n",
    "\n",
    "# Define 5-fold cross validation (shuffle for reproducibility)\n",
    "cv = KFold(n_splits=5, shuffle=True, random_state=42)\n",
    "\n",
    "# Run both pipelines (No Scaling and StandardScaler)\n",
    "# Evaluate performance with F1-score\n",
    "for name, pipe in [(\"No Scaling\", pipe_no), (\"StandardScaler\", pipe_std)]:\n",
    "    scores = cross_val_score(pipe, X, y, cv=cv, scoring=\"f1\")\n",
    "    print(name, \"F1 mean:\", round(scores.mean(), 4))\n"
   ]
  },
  {
   "cell_type": "markdown",
   "id": "b4c62686-cbd3-4cd6-b850-e6e96eb3c042",
   "metadata": {},
   "source": [
    "### Model 1: SVC\n",
    "\n",
    "We use an SVC with a preprocessing pipeline.  \n",
    "Numeric features: impute + scale.  \n",
    "Categorical features: impute + one-hot.  \n",
    "We tune `C`, `kernel`, and `gamma` with GridSearchCV.  \n",
    "Evaluation: **F1-score** with **5-fold CV**.\n"
   ]
  },
  {
   "cell_type": "code",
   "execution_count": 151,
   "id": "678dbf8c-ff53-4b82-80aa-c47c700daab9",
   "metadata": {},
   "outputs": [
    {
     "name": "stdout",
     "output_type": "stream",
     "text": [
      "SVC - best params: {'clf__C': 1, 'clf__gamma': 'auto', 'clf__kernel': 'rbf'}\n",
      "SVC - best CV F1: 0.7544\n",
      "\n",
      "Top configurations (sorted by mean CV F1):\n",
      " mean_test_score  std_test_score  rank_test_score  param_clf__C param_clf__gamma param_clf__kernel\n",
      "          0.7544          0.0155                1           1.0             auto               rbf\n",
      "          0.7525          0.0206                2           1.0            scale               rbf\n",
      "          0.7412          0.0164                3           0.1            scale               rbf\n",
      "          0.7310          0.0298                4          10.0             auto               rbf\n",
      "          0.7283          0.0221                5           0.1             auto               rbf\n",
      "          0.7246          0.0303                6          10.0            scale               rbf\n",
      "          0.7196          0.0257                7           0.1            scale            linear\n",
      "          0.7196          0.0257                7           0.1             auto            linear\n",
      "          0.7196          0.0257                7           1.0            scale            linear\n",
      "          0.7196          0.0257                7           1.0             auto            linear\n"
     ]
    }
   ],
   "source": [
    "# Define feature groups\n",
    "num_cols = [\"Age\", \"Fare\", \"SibSp\", \"Parch\", \"Pclass\"]\n",
    "cat_cols = [\"Sex\", \"Embarked\"]\n",
    "\n",
    "# ----- Preprocessing -----\n",
    "# Numeric pipeline: impute missing values with median + scale\n",
    "num_pipe_std = Pipeline([(\"impute\", SimpleImputer(strategy=\"median\")),(\"scale\", StandardScaler())])\n",
    "\n",
    "# Categorical pipeline: impute missing values with most frequent + one-hot encoding\n",
    "cat_pipe = Pipeline([(\"impute\", SimpleImputer(strategy=\"most_frequent\")),(\"ohe\", OneHotEncoder(handle_unknown=\"ignore\"))])\n",
    "\n",
    "# Combine both pipelines\n",
    "preprocessor = ColumnTransformer([(\"num\", num_pipe_std, num_cols),(\"cat\", cat_pipe,    cat_cols)])\n",
    "\n",
    "# ----- Build full pipeline with SVC -----\n",
    "svc_pipeline = Pipeline([\n",
    "    (\"pre\", preprocessor),       # preprocessing step\n",
    "    (\"clf\", SVC(class_weight=\"balanced\"))  # classifier (handles class imbalance)\n",
    "])\n",
    "\n",
    "# ----- Define hyperparameter grid -----\n",
    "param_grid_svc = {\n",
    "    \"clf__kernel\": [\"linear\", \"rbf\"],\"clf__C\": [0.1, 1, 10],\n",
    "    \"clf__gamma\": [\"scale\", \"auto\"]  # gamma relevant only for rbf\n",
    "}\n",
    "\n",
    "# ----- Cross-validation setup -----\n",
    "cv = KFold(n_splits=5, shuffle=True, random_state=42)\n",
    "\n",
    "# ----- GridSearchCV -----\n",
    "grid_svc = GridSearchCV(\n",
    "    estimator=svc_pipeline,param_grid=param_grid_svc,\n",
    "    scoring=\"f1\",      # evaluation metric\n",
    "    cv=cv,n_jobs=-1,refit=True,return_train_score=False)\n",
    "\n",
    "# ----- Train the model -----\n",
    "grid_svc.fit(X, y)\n",
    "\n",
    "# ----- Print results -----\n",
    "print(\"SVC - best params:\", grid_svc.best_params_)\n",
    "print(\"SVC - best CV F1:\", round(grid_svc.best_score_, 4))\n",
    "\n",
    "# Show top 10 configurations\n",
    "svc_results = pd.DataFrame(grid_svc.cv_results_)\n",
    "param_cols = [c for c in svc_results.columns if c.startswith(\"param_\")]\n",
    "svc_table = svc_results[[\"mean_test_score\", \"std_test_score\", \"rank_test_score\"] + param_cols].sort_values(\"mean_test_score\", ascending=False)\n",
    "\n",
    "print(\"\\nTop configurations (sorted by mean CV F1):\")\n",
    "print(svc_table.head(10).round(4).to_string(index=False))\n",
    "\n",
    "# Save best model for later use on the test set\n",
    "best_svc_model = grid_svc.best_estimator_\n"
   ]
  },
  {
   "cell_type": "code",
   "execution_count": 171,
   "id": "c6080725-ca99-4dee-a7e4-c9f1b573131a",
   "metadata": {},
   "outputs": [],
   "source": [
    "# Result:  \n",
    "# Best SVC configuration is `rbf kernel, C=1, gamma=auto` with mean F1 ≈ 0.75.  \n",
    "# This shows that scaling and parameter tuning improve the model performance.  \n"
   ]
  },
  {
   "cell_type": "markdown",
   "id": "41d1549d-894f-4dc5-8dd8-cdea3f3ec716",
   "metadata": {},
   "source": [
    "### Model 2: RandomForest\n",
    "\n",
    "We use a RandomForest classifier with a preprocessing pipeline.  \n",
    "Numeric features: impute only (no scaling needed).  \n",
    "Categorical features: impute + one-hot.  \n",
    "\n",
    "We tune `n_estimators`, `max_depth`, and `min_samples_split` with GridSearchCV.  \n",
    "Evaluation: **F1-score** with **5-fold CV**.\n"
   ]
  },
  {
   "cell_type": "code",
   "execution_count": 173,
   "id": "ea5c99f4-c552-4150-b884-4922141db570",
   "metadata": {},
   "outputs": [
    {
     "name": "stdout",
     "output_type": "stream",
     "text": [
      "RandomForest - best params: {'clf__max_depth': 10, 'clf__min_samples_split': 2, 'clf__n_estimators': 400}\n",
      "RandomForest - best CV F1: 0.7617\n",
      "\n",
      "Top configurations (sorted by mean CV F1):\n",
      " mean_test_score  std_test_score  rank_test_score param_clf__max_depth  param_clf__min_samples_split  param_clf__n_estimators\n",
      "          0.7617          0.0469                1                   10                             2                      400\n",
      "          0.7606          0.0179                2                    5                             5                      400\n",
      "          0.7603          0.0181                3                    5                             2                      400\n",
      "          0.7592          0.0175                4                    5                             2                      200\n",
      "          0.7569          0.0359                5                   10                             5                      200\n",
      "          0.7563          0.0426                6                 None                             5                      200\n",
      "          0.7560          0.0394                7                   10                             5                      400\n",
      "          0.7556          0.0152                8                    5                             5                      200\n",
      "          0.7546          0.0423                9                   10                             2                      200\n",
      "          0.7507          0.0437               10                 None                             5                      400\n"
     ]
    }
   ],
   "source": [
    "# ===== Model 2: RandomForest =====\n",
    "\n",
    "from sklearn.ensemble import RandomForestClassifier\n",
    "\n",
    "# Numeric pipeline: only impute missing values (no scaling needed)\n",
    "num_pipe_no = Pipeline([(\"impute\", SimpleImputer(strategy=\"median\"))])\n",
    "\n",
    "# Categorical pipeline: impute + one-hot encoding\n",
    "cat_pipe = Pipeline([(\"impute\", SimpleImputer(strategy=\"most_frequent\")),(\"ohe\", OneHotEncoder(handle_unknown=\"ignore\"))])\n",
    "\n",
    "# Combine numeric and categorical pipelines\n",
    "preprocessor_rf = ColumnTransformer([(\"num\", num_pipe_no, num_cols),(\"cat\", cat_pipe,   cat_cols)])\n",
    "\n",
    "# Full pipeline: preprocessing -> RandomForest\n",
    "rf_pipeline = Pipeline([(\"pre\", preprocessor_rf),(\"clf\", RandomForestClassifier(random_state=42))])\n",
    "\n",
    "# Hyperparameter grid for RandomForest\n",
    "param_grid_rf = {\n",
    "\"clf__n_estimators\": [200, 400],\"clf__max_depth\": [None, 5, 10],\"clf__min_samples_split\": [2, 5]\n",
    "}\n",
    "\n",
    "# GridSearchCV with 5-fold CV and F1-score\n",
    "grid_rf = GridSearchCV(\n",
    "    estimator=rf_pipeline, param_grid=param_grid_rf,scoring=\"f1\",\n",
    "    cv=cv,          # same KFold as before\n",
    "    n_jobs=-1, refit=True,\n",
    "    return_train_score=False\n",
    ")\n",
    "\n",
    "# Train\n",
    "grid_rf.fit(X, y)\n",
    "\n",
    "# Best result\n",
    "print(\"RandomForest - best params:\", grid_rf.best_params_)\n",
    "print(\"RandomForest - best CV F1:\", round(grid_rf.best_score_, 4))\n",
    "\n",
    "# Results table (top 10)\n",
    "rf_results = pd.DataFrame(grid_rf.cv_results_)\n",
    "param_cols = [c for c in rf_results.columns if c.startswith(\"param_\")]\n",
    "rf_table = rf_results[\n",
    "    [\"mean_test_score\", \"std_test_score\", \"rank_test_score\"] + param_cols\n",
    "].sort_values(\"mean_test_score\", ascending=False)\n",
    "\n",
    "print(\"\\nTop configurations (sorted by mean CV F1):\")\n",
    "print(rf_table.head(10).round(4).to_string(index=False))\n",
    "\n",
    "# Best estimator for later use on the test set\n",
    "best_rf_model = grid_rf.best_estimator_\n"
   ]
  },
  {
   "cell_type": "code",
   "execution_count": null,
   "id": "b0fae514-99d2-4475-9e5b-06118824a5e0",
   "metadata": {},
   "outputs": [],
   "source": [
    "# Result:\n",
    "# Best RandomForest configuration gives mean F1 ≈ 0.762  \n",
    "# (with parameters `n_estimators=400, max_depth=10, min_samples_split=2`).  \n",
    "# This shows how tuning tree-based models can also improve performance.\n"
   ]
  },
  {
   "cell_type": "markdown",
   "id": "67d97f11",
   "metadata": {},
   "source": [
    "## Part 4 - Training \n",
    "Use the best combination of feature engineering, model (algorithm and hyperparameters) from the experiment part (part 3)"
   ]
  },
  {
   "cell_type": "code",
   "execution_count": null,
   "id": "93713ead",
   "metadata": {},
   "outputs": [],
   "source": []
  },
  {
   "cell_type": "code",
   "execution_count": null,
   "id": "c0fc460d",
   "metadata": {},
   "outputs": [],
   "source": []
  },
  {
   "cell_type": "code",
   "execution_count": null,
   "id": "064ad0a0",
   "metadata": {},
   "outputs": [],
   "source": []
  },
  {
   "cell_type": "markdown",
   "id": "259ab902",
   "metadata": {},
   "source": [
    "## Part 5 - Apply on test and show model performance estimation"
   ]
  },
  {
   "cell_type": "code",
   "execution_count": null,
   "id": "d9971aa5",
   "metadata": {},
   "outputs": [],
   "source": []
  },
  {
   "cell_type": "code",
   "execution_count": null,
   "id": "00d8aa96",
   "metadata": {},
   "outputs": [],
   "source": []
  }
 ],
 "metadata": {
  "kernelspec": {
   "display_name": "Python [conda env:base] *",
   "language": "python",
   "name": "conda-base-py"
  },
  "language_info": {
   "codemirror_mode": {
    "name": "ipython",
    "version": 3
   },
   "file_extension": ".py",
   "mimetype": "text/x-python",
   "name": "python",
   "nbconvert_exporter": "python",
   "pygments_lexer": "ipython3",
   "version": "3.12.7"
  },
  "widgets": {
   "application/vnd.jupyter.widget-state+json": {
    "state": {},
    "version_major": 2,
    "version_minor": 0
   }
  }
 },
 "nbformat": 4,
 "nbformat_minor": 5
}
